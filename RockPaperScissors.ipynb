{
 "cells": [
  {
   "cell_type": "code",
   "execution_count": null,
   "id": "8315a8f1-0e0b-451e-99d7-d2f4a45d7840",
   "metadata": {},
   "outputs": [],
   "source": [
    "import random\n",
    "\n",
    "\n",
    "def computer_run():\n",
    "    \"\"\"\n",
    "    The function used to decide computer move\n",
    "    \"\"\"\n",
    "    a = random.randint(1,3)\n",
    "    if a == 1:\n",
    "        return 'ROCK'\n",
    "    elif a == 2:\n",
    "        return 'PAPER'\n",
    "    else:\n",
    "        return 'SCISSORS'\n",
    "    \n",
    "    \n",
    "tie = 0\n",
    "lose = 0\n",
    "win = 0   \n",
    "\n",
    "print('Welcome to ROCK, PAPER, SCISSORS game!')\n",
    "while win != 1:\n",
    "    your_move = input('Enter your move: (r)ock (p)aper (s)cissors')\n",
    "    \n",
    "    # rename your_move\n",
    "    if your_move == 'r':\n",
    "        your_move = 'ROCK'\n",
    "    elif your_move == 'p':\n",
    "        your_move = 'PAPER'\n",
    "    else:\n",
    "        your_move = 'SCISSORS'\n",
    "        \n",
    "    print(your_move,'versus...')\n",
    "    computer_move = computer_run()\n",
    "    print(computer_move)\n",
    "    \n",
    "    # decide win, lose, tie\n",
    "    if your_move == computer_move:\n",
    "        print('It is a tie!')\n",
    "        tie += 1\n",
    "    elif your_move == 'ROCK' and computer_move == 'PAPER':\n",
    "        print('You lose!')\n",
    "        lose += 1\n",
    "    elif your_move == 'SCISSORS' and computer_move == 'ROCK':\n",
    "        print('You lose!')\n",
    "        lose += 1\n",
    "    elif your_move == 'PAPER' and computer_move == 'SCISSORS':\n",
    "        print('You lose!')\n",
    "        lose += 1\n",
    "    else:\n",
    "        print('You win!')\n",
    "        win += 1\n",
    "        \n",
    "print('You have', tie, 'ties and', lose, 'losses before your first win.')\n"
   ]
  },
  {
   "cell_type": "code",
   "execution_count": null,
   "id": "09d0a664-4987-473e-bd24-8cd1b568e5d9",
   "metadata": {},
   "outputs": [],
   "source": []
  }
 ],
 "metadata": {
  "kernelspec": {
   "display_name": "Python 3",
   "language": "python",
   "name": "python3"
  },
  "language_info": {
   "codemirror_mode": {
    "name": "ipython",
    "version": 3
   },
   "file_extension": ".py",
   "mimetype": "text/x-python",
   "name": "python",
   "nbconvert_exporter": "python",
   "pygments_lexer": "ipython3",
   "version": "3.8.8"
  }
 },
 "nbformat": 4,
 "nbformat_minor": 5
}
