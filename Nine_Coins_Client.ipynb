{
 "cells": [
  {
   "cell_type": "code",
   "execution_count": 1,
   "id": "d9846911-ec0c-418a-8eb4-81706df53291",
   "metadata": {},
   "outputs": [],
   "source": [
    "from nine_coins import Nine_Coins"
   ]
  },
  {
   "cell_type": "code",
   "execution_count": 2,
   "id": "fc995bd1-a25c-48f5-aef3-4d86ef9587d3",
   "metadata": {},
   "outputs": [],
   "source": [
    "c = Nine_Coins(7)"
   ]
  },
  {
   "cell_type": "code",
   "execution_count": 3,
   "id": "81157426-4863-4770-9e5c-912d1aca3a67",
   "metadata": {},
   "outputs": [
    {
     "data": {
      "text/plain": [
       "Nine_Coins: HHHHHHTTT"
      ]
     },
     "execution_count": 3,
     "metadata": {},
     "output_type": "execute_result"
    }
   ],
   "source": [
    "c"
   ]
  },
  {
   "cell_type": "code",
   "execution_count": 4,
   "id": "e6aa811b-ca57-4fee-8603-1fc2464a3f0d",
   "metadata": {},
   "outputs": [
    {
     "name": "stdout",
     "output_type": "stream",
     "text": [
      "binary: 000000111 and decimal: 7\n"
     ]
    }
   ],
   "source": [
    "print(c)"
   ]
  },
  {
   "cell_type": "code",
   "execution_count": 5,
   "id": "a43d6df5-db2f-4c1b-be46-9358e8575207",
   "metadata": {},
   "outputs": [],
   "source": [
    "c.toss()"
   ]
  },
  {
   "cell_type": "code",
   "execution_count": 6,
   "id": "5ede1cb4-2fac-4bb1-8ca5-acc9b50f7415",
   "metadata": {},
   "outputs": [
    {
     "data": {
      "text/plain": [
       "Nine_Coins: HTHHTTTHT"
      ]
     },
     "execution_count": 6,
     "metadata": {},
     "output_type": "execute_result"
    }
   ],
   "source": [
    "c"
   ]
  },
  {
   "cell_type": "code",
   "execution_count": 7,
   "id": "8580cf98-4669-44df-a0b9-2ca77028e750",
   "metadata": {},
   "outputs": [
    {
     "name": "stdout",
     "output_type": "stream",
     "text": [
      "binary: 010011101 and decimal: 157\n"
     ]
    }
   ],
   "source": [
    "print(c)"
   ]
  },
  {
   "cell_type": "code",
   "execution_count": null,
   "id": "54bb45b5-4828-47ff-b744-55c8f3bf147e",
   "metadata": {},
   "outputs": [],
   "source": []
  }
 ],
 "metadata": {
  "kernelspec": {
   "display_name": "Python 3",
   "language": "python",
   "name": "python3"
  },
  "language_info": {
   "codemirror_mode": {
    "name": "ipython",
    "version": 3
   },
   "file_extension": ".py",
   "mimetype": "text/x-python",
   "name": "python",
   "nbconvert_exporter": "python",
   "pygments_lexer": "ipython3",
   "version": "3.8.8"
  }
 },
 "nbformat": 4,
 "nbformat_minor": 5
}
