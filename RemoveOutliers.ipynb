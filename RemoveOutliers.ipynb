{
 "cells": [
  {
   "cell_type": "code",
   "execution_count": 1,
   "id": "82b1c1ea-5782-42ed-aa2a-a99eceed6e7c",
   "metadata": {},
   "outputs": [
    {
     "name": "stdin",
     "output_type": "stream",
     "text": [
      "Enter the number of smallest and largest values to remove: 2\n",
      "Enter a value (q or Q to quit): 1001\n",
      "Enter a value (q or Q to quit): 2001\n",
      "Enter a value (q or Q to quit): 1\n",
      "Enter a value (q or Q to quit): 2\n",
      "Enter a value (q or Q to quit): -1001\n",
      "Enter a value (q or Q to quit): -20\n",
      "Enter a value (q or Q to quit): 5\n",
      "Enter a value (q or Q to quit): 4\n",
      "Enter a value (q or Q to quit): 3\n",
      "Enter a value (q or Q to quit): 2\n",
      "Enter a value (q or Q to quit): 1\n",
      "Enter a value (q or Q to quit): q\n"
     ]
    },
    {
     "name": "stdout",
     "output_type": "stream",
     "text": [
      "The original data:  [1001, 2001, 1, 2, -1001, -20, 5, 4, 3, 2, 1]\n",
      "The data with the outliers removed:  [1, 1, 2, 2, 3, 4, 5]\n",
      "The outliers:  [-1001, -20, 1001, 2001]\n"
     ]
    }
   ],
   "source": [
    "remove = input('Enter the number of smallest and largest values to remove:')\n",
    "ori_val = []\n",
    "while True:\n",
    "    value = input('Enter a value (q or Q to quit):')\n",
    "    \n",
    "    # quit the while or not\n",
    "    if value == 'q' or value =='Q':\n",
    "        break\n",
    "    else:\n",
    "        val = value\n",
    "        ori_val.append(int(val))\n",
    "        \n",
    "print('The original data: ',ori_val)\n",
    "outlier = []\n",
    "\n",
    "# the for loop use to find max and min, then remove it\n",
    "for i in range(int(remove)):\n",
    "    maximum = max(ori_val)\n",
    "    minimum = min(ori_val)\n",
    "    outlier.append(maximum)\n",
    "    outlier.append(minimum)\n",
    "    ori_val.remove(maximum)\n",
    "    ori_val.remove(minimum)\n",
    "    \n",
    "ori_val.sort()\n",
    "outlier.sort()\n",
    "print('The data with the outliers removed: ', ori_val)\n",
    "print('The outliers: ',outlier)"
   ]
  },
  {
   "cell_type": "code",
   "execution_count": null,
   "id": "b0c33d37-8a8c-4ddf-935e-222ec712cab3",
   "metadata": {},
   "outputs": [],
   "source": []
  }
 ],
 "metadata": {
  "kernelspec": {
   "display_name": "Python 3",
   "language": "python",
   "name": "python3"
  },
  "language_info": {
   "codemirror_mode": {
    "name": "ipython",
    "version": 3
   },
   "file_extension": ".py",
   "mimetype": "text/x-python",
   "name": "python",
   "nbconvert_exporter": "python",
   "pygments_lexer": "ipython3",
   "version": "3.8.8"
  }
 },
 "nbformat": 4,
 "nbformat_minor": 5
}
