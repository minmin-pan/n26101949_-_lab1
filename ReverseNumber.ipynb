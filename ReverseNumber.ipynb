{
 "cells": [
  {
   "cell_type": "code",
   "execution_count": 10,
   "id": "788a21f2-ce80-46f1-9f80-140260a69921",
   "metadata": {},
   "outputs": [
    {
     "name": "stdin",
     "output_type": "stream",
     "text": [
      "Enter an integer: 1234560\n"
     ]
    },
    {
     "name": "stdout",
     "output_type": "stream",
     "text": [
      "0654321"
     ]
    }
   ],
   "source": [
    "def reverse(num):\n",
    "    \"\"\"\n",
    "    The function used to reverse your input number.\n",
    "    \"\"\"\n",
    "    re_num = ''\n",
    "    while num != 0: \n",
    "        re_num += str(num % 10)\n",
    "        num //= 10\n",
    "    for i in re_num:\n",
    "        print(i, end='')\n",
    "\n",
    "num = int(input('Enter an integer:'))\n",
    "reverse(num)"
   ]
  },
  {
   "cell_type": "code",
   "execution_count": null,
   "id": "df027a83-9040-4422-9462-261ef88ab0b7",
   "metadata": {},
   "outputs": [],
   "source": []
  }
 ],
 "metadata": {
  "kernelspec": {
   "display_name": "Python 3",
   "language": "python",
   "name": "python3"
  },
  "language_info": {
   "codemirror_mode": {
    "name": "ipython",
    "version": 3
   },
   "file_extension": ".py",
   "mimetype": "text/x-python",
   "name": "python",
   "nbconvert_exporter": "python",
   "pygments_lexer": "ipython3",
   "version": "3.8.8"
  }
 },
 "nbformat": 4,
 "nbformat_minor": 5
}
